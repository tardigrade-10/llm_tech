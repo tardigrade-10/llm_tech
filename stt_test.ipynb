{
 "cells": [
  {
   "cell_type": "code",
   "execution_count": 1,
   "metadata": {},
   "outputs": [],
   "source": [
    "from openai import OpenAI\n",
    "from dotenv import load_dotenv\n",
    "load_dotenv()\n",
    "client = OpenAI()"
   ]
  },
  {
   "cell_type": "code",
   "execution_count": 2,
   "metadata": {},
   "outputs": [
    {
     "data": {
      "text/plain": [
       "Transcription(text=\"Alright guys, so let's imagine a star, one like our own sun, but with a tiny bit of difference. Instead of the fiery nuclear reaction at its core which is actually keeping it shiny, our star has already exhausted all of its fuel. It has burned through everything that could actually sustain its energy. Now when a massive star like this runs out of fuel, it can no longer sustain these nuclear reactions that keeps it from collapsing under its own gravity. The core of the star hence collapses and the outer layers are expelled in a spectacular explosion which we call as supernova. And isn't it just beautiful? Well, it's as violent. During this explosion, the temperature and pressure both reach unimaginable levels and the elements which are heavier than iron are formed. The shockwave from the explosion compresses the core to an extreme density causing protons and electrons to fuse together and form neutrons. This results in a compact object made almost entirely of neutrons and hence the name neutron star. And now to give you an idea about how dense this kind of neutron stars are, just imagine taking the entire mass of the sun and squeezing it into a sphere the size of a city. That's the kind of density is what we are talking about over here. Neutron stars are incredibly dense but at the same time they are also incredibly small. Despite having a mass which is greater than the sun, they are only about a few kilometres in diameter. And due to this high density, they also have a strong gravitational pull just like a black hole. And in fact, the gravitational pull is so strong, as I mentioned, like a black hole, they can bend and distort light causing the phenomenon known as gravitational lensing. And you must have seen this kind of effect nowadays a lot of times whenever you see the James Webb Space Telescope's images. Now despite their small size, neutron stars can spin at an astonishing rate and sometimes hundreds of times per second. And as they spin, they emit beams of radiation that can be detected over here on earth, making them some of the most interesting objects in the universe to study. And in fact, neutron stars are so fascinating that they continue to capture the imaginations of scientists and astronomers alike, offering an unparalleled opportunity to learn about the most extreme conditions in our universe. And over here in this program, that's exactly what we are going to do by modelling a neutron star. And for that, you will need to look into the problem statement and we'll look into that in the next video.\")"
      ]
     },
     "execution_count": 2,
     "metadata": {},
     "output_type": "execute_result"
    }
   ],
   "source": [
    "audio_file= open(\"stt_audios\\M1V2 - Audio.wav\", \"rb\")\n",
    "transcript = client.audio.transcriptions.create(\n",
    "  model=\"whisper-1\",\n",
    "  file=audio_file\n",
    ")\n",
    "\n",
    "transcript"
   ]
  },
  {
   "cell_type": "markdown",
   "metadata": {},
   "source": [
    "### latency is just too high, 6m 48s"
   ]
  },
  {
   "cell_type": "code",
   "execution_count": 4,
   "metadata": {},
   "outputs": [
    {
     "data": {
      "text/plain": [
       "\"Alright guys, so let's imagine a star, one like our own sun, but with a tiny bit of difference. Instead of the fiery nuclear reaction at its core which is actually keeping it shiny, our star has already exhausted all of its fuel. It has burned through everything that could actually sustain its energy. Now when a massive star like this runs out of fuel, it can no longer sustain these nuclear reactions that keeps it from collapsing under its own gravity. The core of the star hence collapses and the outer layers are expelled in a spectacular explosion which we call as supernova. And isn't it just beautiful? Well, it's as violent. During this explosion, the temperature and pressure both reach unimaginable levels and the elements which are heavier than iron are formed. The shockwave from the explosion compresses the core to an extreme density causing protons and electrons to fuse together and form neutrons. This results in a compact object made almost entirely of neutrons and hence the name neutron star. And now to give you an idea about how dense this kind of neutron stars are, just imagine taking the entire mass of the sun and squeezing it into a sphere the size of a city. That's the kind of density is what we are talking about over here. Neutron stars are incredibly dense but at the same time they are also incredibly small. Despite having a mass which is greater than the sun, they are only about a few kilometres in diameter. And due to this high density, they also have a strong gravitational pull just like a black hole. And in fact, the gravitational pull is so strong, as I mentioned, like a black hole, they can bend and distort light causing the phenomenon known as gravitational lensing. And you must have seen this kind of effect nowadays a lot of times whenever you see the James Webb Space Telescope's images. Now despite their small size, neutron stars can spin at an astonishing rate and sometimes hundreds of times per second. And as they spin, they emit beams of radiation that can be detected over here on earth, making them some of the most interesting objects in the universe to study. And in fact, neutron stars are so fascinating that they continue to capture the imaginations of scientists and astronomers alike, offering an unparalleled opportunity to learn about the most extreme conditions in our universe. And over here in this program, that's exactly what we are going to do by modelling a neutron star. And for that, you will need to look into the problem statement and we'll look into that in the next video.\""
      ]
     },
     "execution_count": 4,
     "metadata": {},
     "output_type": "execute_result"
    }
   ],
   "source": [
    "transcript.model_dump()['text']"
   ]
  },
  {
   "cell_type": "code",
   "execution_count": null,
   "metadata": {},
   "outputs": [],
   "source": []
  }
 ],
 "metadata": {
  "kernelspec": {
   "display_name": "llm",
   "language": "python",
   "name": "python3"
  },
  "language_info": {
   "codemirror_mode": {
    "name": "ipython",
    "version": 3
   },
   "file_extension": ".py",
   "mimetype": "text/x-python",
   "name": "python",
   "nbconvert_exporter": "python",
   "pygments_lexer": "ipython3",
   "version": "3.11.2"
  }
 },
 "nbformat": 4,
 "nbformat_minor": 2
}
