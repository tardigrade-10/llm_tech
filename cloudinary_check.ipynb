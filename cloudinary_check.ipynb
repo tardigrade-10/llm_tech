{
 "cells": [
  {
   "cell_type": "code",
   "execution_count": 1,
   "metadata": {},
   "outputs": [
    {
     "name": "stdout",
     "output_type": "stream",
     "text": [
      "Collecting cloudinary\n",
      "  Downloading cloudinary-1.38.0.tar.gz (176 kB)\n",
      "     -------------------------------------- 176.9/176.9 kB 1.3 MB/s eta 0:00:00\n",
      "  Installing build dependencies: started\n",
      "  Installing build dependencies: finished with status 'done'\n",
      "  Getting requirements to build wheel: started\n",
      "  Getting requirements to build wheel: finished with status 'done'\n",
      "  Installing backend dependencies: started\n",
      "  Installing backend dependencies: finished with status 'done'\n",
      "  Preparing metadata (pyproject.toml): started\n",
      "  Preparing metadata (pyproject.toml): finished with status 'done'\n",
      "Requirement already satisfied: six in c:\\users\\dell\\appdata\\roaming\\python\\python311\\site-packages (from cloudinary) (1.16.0)\n",
      "Requirement already satisfied: urllib3>=1.26.5 in c:\\users\\dell\\appdata\\roaming\\python\\python311\\site-packages (from cloudinary) (1.26.16)\n",
      "Requirement already satisfied: certifi in c:\\users\\dell\\appdata\\roaming\\python\\python311\\site-packages (from cloudinary) (2023.5.7)\n",
      "Building wheels for collected packages: cloudinary\n",
      "  Building wheel for cloudinary (pyproject.toml): started\n",
      "  Building wheel for cloudinary (pyproject.toml): finished with status 'done'\n",
      "  Created wheel for cloudinary: filename=cloudinary-1.38.0-py3-none-any.whl size=139561 sha256=3bfb9bbb31b2bce928a48be78ee99bb8146ee4e657e21c333417e50c1ec2c5a0\n",
      "  Stored in directory: c:\\users\\dell\\appdata\\local\\pip\\cache\\wheels\\3e\\26\\12\\5ee9c2e660948015b3ad884d9241a263f9bbfc0a0d087127be\n",
      "Successfully built cloudinary\n",
      "Installing collected packages: cloudinary\n",
      "Successfully installed cloudinary-1.38.0\n"
     ]
    }
   ],
   "source": [
    "!pip install cloudinary"
   ]
  },
  {
   "cell_type": "code",
   "execution_count": null,
   "metadata": {},
   "outputs": [],
   "source": [
    "import cloudinary\n",
    "import cloudinary.uploader\n",
    "import cloudinary.api"
   ]
  }
 ],
 "metadata": {
  "kernelspec": {
   "display_name": "llm",
   "language": "python",
   "name": "python3"
  },
  "language_info": {
   "codemirror_mode": {
    "name": "ipython",
    "version": 3
   },
   "file_extension": ".py",
   "mimetype": "text/x-python",
   "name": "python",
   "nbconvert_exporter": "python",
   "pygments_lexer": "ipython3",
   "version": "3.11.2"
  }
 },
 "nbformat": 4,
 "nbformat_minor": 2
}
