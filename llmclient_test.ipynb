{
 "cells": [
  {
   "cell_type": "code",
   "execution_count": null,
   "metadata": {},
   "outputs": [],
   "source": [
    "lc-e344250a36e9a3926a9a8b7733021bce263d5ad8b99358512be54c725e7548fe"
   ]
  },
  {
   "cell_type": "code",
   "execution_count": null,
   "metadata": {},
   "outputs": [],
   "source": [
    "import OpenAI from \"openai\";\n",
    "const openai = new OpenAI({\n",
    "    apiKey: OPENAI_APIKEY,\n",
    "    baseURL: \"https://proxy.llmclient.com/openai/v1\",\n",
    "    defaultHeaders: {\n",
    "      \"x-llmclient-apikey\": \"LLMCLIENT_APIKEY\",\n",
    "      \n",
    "    },\n",
    "});"
   ]
  }
 ],
 "metadata": {
  "language_info": {
   "name": "python"
  }
 },
 "nbformat": 4,
 "nbformat_minor": 2
}
