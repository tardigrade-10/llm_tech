{
 "cells": [
  {
   "cell_type": "code",
   "execution_count": null,
   "metadata": {},
   "outputs": [],
   "source": [
    "from env_config import Config"
   ]
  },
  {
   "cell_type": "code",
   "execution_count": null,
   "metadata": {},
   "outputs": [],
   "source": [
    "# %pip install scikit-llm"
   ]
  },
  {
   "cell_type": "code",
   "execution_count": 24,
   "metadata": {},
   "outputs": [],
   "source": [
    "from skllm.config import SKLLMConfig\n",
    "SKLLMConfig.set_openai_key(Config.OPENAI_API_KEY)\n",
    "SKLLMConfig.set_openai_org(Config.OPENAI_ORG_ID)"
   ]
  },
  {
   "cell_type": "code",
   "execution_count": 33,
   "metadata": {},
   "outputs": [],
   "source": [
    "import pandas as pd\n",
    "\n",
    "df_X = pd.read_csv('data/projects.csv')\n",
    "df_y = pd.read_csv('data/tags.csv')"
   ]
  },
  {
   "cell_type": "code",
   "execution_count": 34,
   "metadata": {},
   "outputs": [
    {
     "data": {
      "text/plain": [
       "['Comparison between YOLO and RCNN on real world videos. Bringing theory to experiment is cool. We can easily train models in colab and find the results in minutes.',\n",
       " 'Show, Infer & Tell: Contextual Inference for Creative Captioning. The beauty of the work lies in the way it architects the fundamental idea that humans look at the overall image and then individual pieces of it.\\r\\n',\n",
       " 'Awesome Graph Classification. A collection of important graph embedding, classification and representation learning papers with implementations.',\n",
       " 'Awesome Monte Carlo Tree Search. A curated list of Monte Carlo tree search papers with implementations. ',\n",
       " 'Diffusion to Vector. Reference implementation of Diffusion2Vec (Complenet 2018) built on Gensim and NetworkX. ',\n",
       " 'AttentionWalk. A PyTorch Implementation of \"Watch Your Step: Learning Node Embeddings via Graph Attention\" (NeurIPS 2018). ',\n",
       " 'Graph Wavelet Neural Network. A PyTorch implementation of \"Graph Wavelet Neural Network\" (ICLR 2019) ',\n",
       " 'APPNP and PPNP. A PyTorch implementation of \"Predict then Propagate: Graph Neural Networks meet Personalized PageRank\" (ICLR 2019). ',\n",
       " 'Attributed Social Network Embedding. A sparsity aware and memory efficient implementation of \"Attributed Social Network Embedding\" (TKDE 2018). ',\n",
       " 'Signed Graph Convolutional Network. A PyTorch implementation of \"Signed Graph Convolutional Network\" (ICDM 2018). ']"
      ]
     },
     "execution_count": 34,
     "metadata": {},
     "output_type": "execute_result"
    }
   ],
   "source": [
    "X = df_X['title'] + \". \" + df_X['description']\n",
    "X = X.to_list()\n",
    "X[:10]"
   ]
  },
  {
   "cell_type": "code",
   "execution_count": 35,
   "metadata": {},
   "outputs": [],
   "source": [
    "y = df_y['tag']\n",
    "# y = y.unique()\n",
    "y[:10]"
   ]
  },
  {
   "cell_type": "code",
   "execution_count": 36,
   "metadata": {},
   "outputs": [
    {
     "name": "stderr",
     "output_type": "stream",
     "text": [
      "100%|██████████| 96/96 [05:03<00:00,  3.16s/it]\n"
     ]
    }
   ],
   "source": [
    "from skllm import ZeroShotGPTClassifier\n",
    "from skllm.datasets import get_classification_dataset\n",
    "from sklearn.model_selection import train_test_split\n",
    "\n",
    "# demo sentiment analysis dataset\n",
    "# labels: positive, negative, neutral\n",
    "# X, y = get_classification_dataset()\n",
    "X_train, X_test, y_train, y_test = train_test_split(X, y, test_size=0.1)\n",
    "\n",
    "\n",
    "clf = ZeroShotGPTClassifier(openai_model = \"gpt-3.5-turbo\")\n",
    "clf.fit(X_train, y_train)\n",
    "labels = clf.predict(X_test)"
   ]
  },
  {
   "cell_type": "code",
   "execution_count": 42,
   "metadata": {},
   "outputs": [],
   "source": [
    "y_test = y_test.to_list()\n",
    "c = 0\n",
    "for tru, lab in zip(y_test, labels):\n",
    "    if tru != lab:\n",
    "        c+=1"
   ]
  },
  {
   "cell_type": "code",
   "execution_count": 43,
   "metadata": {},
   "outputs": [
    {
     "data": {
      "text/plain": [
       "6"
      ]
     },
     "execution_count": 43,
     "metadata": {},
     "output_type": "execute_result"
    }
   ],
   "source": [
    "c"
   ]
  },
  {
   "cell_type": "code",
   "execution_count": 44,
   "metadata": {},
   "outputs": [
    {
     "data": {
      "text/plain": [
       "0.9375"
      ]
     },
     "execution_count": 44,
     "metadata": {},
     "output_type": "execute_result"
    }
   ],
   "source": [
    "90/96"
   ]
  },
  {
   "cell_type": "code",
   "execution_count": null,
   "metadata": {},
   "outputs": [],
   "source": []
  }
 ],
 "metadata": {
  "kernelspec": {
   "display_name": "llm",
   "language": "python",
   "name": "python3"
  },
  "language_info": {
   "codemirror_mode": {
    "name": "ipython",
    "version": 3
   },
   "file_extension": ".py",
   "mimetype": "text/x-python",
   "name": "python",
   "nbconvert_exporter": "python",
   "pygments_lexer": "ipython3",
   "version": "3.11.2"
  },
  "orig_nbformat": 4
 },
 "nbformat": 4,
 "nbformat_minor": 2
}
