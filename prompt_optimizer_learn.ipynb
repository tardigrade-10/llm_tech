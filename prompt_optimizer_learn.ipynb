{
 "cells": [
  {
   "cell_type": "code",
   "execution_count": 2,
   "metadata": {},
   "outputs": [
    {
     "name": "stderr",
     "output_type": "stream",
     "text": [
      "c:\\Users\\DELL\\anaconda3\\envs\\llm\\Lib\\site-packages\\tqdm\\auto.py:21: TqdmWarning: IProgress not found. Please update jupyter and ipywidgets. See https://ipywidgets.readthedocs.io/en/stable/user_install.html\n",
      "  from .autonotebook import tqdm as notebook_tqdm\n",
      "Some weights of the model checkpoint at bert-base-cased were not used when initializing BertForMaskedLM: ['cls.seq_relationship.weight', 'cls.seq_relationship.bias']\n",
      "- This IS expected if you are initializing BertForMaskedLM from the checkpoint of a model trained on another task or with another architecture (e.g. initializing a BertForSequenceClassification model from a BertForPreTraining model).\n",
      "- This IS NOT expected if you are initializing BertForMaskedLM from the checkpoint of a model that you expect to be exactly identical (initializing a BertForSequenceClassification model from a BertForSequenceClassification model).\n",
      "2023-06-05 14:32:57,503 - prompt_optimizer.poptim.logger - INFO - Prompt Data Before: The Belle Tout Lighthouse is a decommissioned lighthouse and British landmark located at Beachy Head, East Sussex, close to the town of Eastbourne.\n",
      "2023-06-05 14:32:57,513 - prompt_optimizer.poptim.logger - INFO - Prompt Data After: The Belle Tout Lighthouse is a decommissioned lighthouse and British landmark located at Beachy Head, East Sussex, close of Eastbourne.\n"
     ]
    },
    {
     "name": "stdout",
     "output_type": "stream",
     "text": [
      "{'content': 'The Belle Tout Lighthouse is a decommissioned lighthouse and British landmark located at Beachy Head, East Sussex, close of Eastbourne.', 'metrics': []}\n"
     ]
    }
   ],
   "source": [
    "\n",
    "from prompt_optimizer.poptim import EntropyOptim\n",
    "\n",
    "prompt = \"\"\"The Belle Tout Lighthouse is a decommissioned lighthouse and British landmark located at Beachy Head, East Sussex, close to the town of Eastbourne.\"\"\"\n",
    "p_optimizer = EntropyOptim(verbose=True, p=0.1)\n",
    "optimized_prompt = p_optimizer(prompt)\n",
    "print(optimized_prompt)\n"
   ]
  },
  {
   "cell_type": "code",
   "execution_count": 5,
   "metadata": {},
   "outputs": [
    {
     "name": "stderr",
     "output_type": "stream",
     "text": [
      "Some weights of the model checkpoint at bert-base-cased were not used when initializing BertForMaskedLM: ['cls.seq_relationship.weight', 'cls.seq_relationship.bias']\n",
      "- This IS expected if you are initializing BertForMaskedLM from the checkpoint of a model trained on another task or with another architecture (e.g. initializing a BertForSequenceClassification model from a BertForPreTraining model).\n",
      "- This IS NOT expected if you are initializing BertForMaskedLM from the checkpoint of a model that you expect to be exactly identical (initializing a BertForSequenceClassification model from a BertForSequenceClassification model).\n"
     ]
    },
    {
     "name": "stdout",
     "output_type": "stream",
     "text": [
      "\n",
      "Please provide detailed guide on effectively house train should by instructions helpful tips and potential challenges arise during Please also addressing mistakes orsconception about house offering practical overcome them guide follow catered different types dogs individual Last your emphasize reinforcement patience key components in successfully house training\n"
     ]
    }
   ],
   "source": [
    "prompt = \"\"\"Please provide a detailed guide on how to effectively house train a dog. Your response should include step-by-step instructions, helpful tips, and potential challenges that may arise during the process. Please also consider addressing common mistakes or misconceptions about house training and offering practical solutions to overcome them. Your guide should be easy to follow and catered to different types of dogs and their individual needs. Lastly, your response should emphasize positive reinforcement and patience as key components in successfully house training a dog.\"\"\"\n",
    "p_optimizer = EntropyOptim(verbose=False, p=0.5)\n",
    "optimized_prompt = p_optimizer(prompt)\n",
    "print('\\n' + optimized_prompt['content'])"
   ]
  },
  {
   "attachments": {},
   "cell_type": "markdown",
   "metadata": {},
   "source": [
    "### test"
   ]
  },
  {
   "cell_type": "code",
   "execution_count": 6,
   "metadata": {},
   "outputs": [
    {
     "name": "stdout",
     "output_type": "stream",
     "text": [
      "{\n",
      "  \"choices\": [\n",
      "    {\n",
      "      \"finish_reason\": \"stop\",\n",
      "      \"index\": 0,\n",
      "      \"message\": {\n",
      "        \"content\": \"House training a dog can be a challenging and time-consuming process, but it is an essential part of pet ownership. It requires patience, consistency, and a willingness to work with your dog. With the right approach, you can train your dog to relieve themselves outdoors and minimize accidents inside your home. Below is a detailed guide to help you effectively house train your dog.\\n\\nStep-by-Step Guide:\\n\\n1. Establish a Routine: The first step in house training a dog is to establish a routine. Your dog should be taken outside to the same spot for potty breaks at specific times of the day. Dogs usually need to eliminate after waking up, after eating, and after playing. Start by taking your dog out every two hours, gradually increasing the time as they become more reliable.\\n\\n2. Choose a Specific Spot: Choose a designated spot in your yard where you want your dog to relieve themselves. Take them to this spot consistently, using a leash if necessary, and give them a command such as \\\"go potty\\\" or \\\"do your business.\\\" Eventually, they will come to associate this spot with the need to eliminate.\\n\\n3. Reward Success: When your dog relieves themselves in the appropriate spot, immediately reward them with praise, a treat or a toy, to reinforce their behavior. Positive reinforcement is a powerful tool in training your dog and it is essential to catch and reward them for good behavior.\\n\\n4. Supervision: When a dog is being house trained, they need to be closely supervised. Do not let your dog roam around unsupervised in the house, as they may have accidents. Keep them in a crate or confined to an area where they can be closely monitored.\\n\\n5. Look for Signs: Watch your dog for signs that they need to eliminate. They may start pacing or sniffing the ground. When you notice these behaviors, take them outside to their designated spot.\\n\\n6. Consistency: Consistency is key when house training. Stick to a routine and keep the same command words when taking your dog outside. Use positive reinforcement when your dog behaves correctly.\\n\\n7. Cleaning Up Accidents: Even with the best training, accidents can still happen. Make sure to clean up any accidents thoroughly, using an enzymatic cleaner that eliminates odors that might prompt another accident. Avoid using ammonia-based cleaners, as they can smell like urine to your dog and might trigger another accident.\\n\\nPotential Challenges & Solutions:\\n\\n1. Accidents: Accidents are bound to happen during the training process. Be patient and continue to monitor your dog's behavior closely. Stay positive and stick to the routine, rewarding your dog for good behavior. If accidents become frequent, consult your veterinarian as your dog may have a health condition that needs to be addressed.\\n\\n2. Submissive Urination: Some dogs may exhibit submissive urination when they feel anxious or intimidated. This is not a house training issue, but rather a behavioral issue. Seek the help of a professional dog trainer to address this issue.\\n\\n3. Fear of Outdoors: Some dogs may be hesitant or fearful of going outside, especially if they have had negative experiences. Be patient and gentle, and use positive reinforcement techniques to help them overcome their fear.\\n\\n4. Inconsistent Training: Inconsistency in training your dog can lead to confusion and slow down the process. Ensure that everyone in your household is following the same routine, using the same commands, and rewarding your dog for good behavior.\\n\\nCommon Mistakes & Practical Solutions:\\n\\n1. Punishing Your Dog: Punishing your dog for accidents is not only ineffective but also harmful. Avoid scolding or hitting your dog. Instead, consistently reward good behavior and ignore bad behavior.\\n\\n2. Letting Your Dog Roam Free: Allowing your dog to roam free in the house before they are house trained can lead to accidents. Keep your dog in a crate or confined to an area where they can be closely monitored.\\n\\n3. Not Being Consistent: Inconsistency is a common mistake during the training process. Stick to a routine, use the same commands, and reward good behavior to ensure success.\\n\\nConclusion:\\n\\nHouse training a dog takes time, patience, and consistency. By following the above guide and tips, you can effectively house train your dog and minimize accidents in your home. Remember to reward good behavior, be patient, and consult a professional if you encounter any issues. With positive reinforcement and a consistent routine, your dog will quickly learn where and when to relieve themselves, making everyone's life easier and more pleasant.\",\n",
      "        \"role\": \"assistant\"\n",
      "      }\n",
      "    }\n",
      "  ],\n",
      "  \"created\": 1685956210,\n",
      "  \"id\": \"chatcmpl-7O0W2iMAp1kAwIhwuEiHRyOl8W3jA\",\n",
      "  \"model\": \"gpt-3.5-turbo-0301\",\n",
      "  \"object\": \"chat.completion\",\n",
      "  \"usage\": {\n",
      "    \"completion_tokens\": 905,\n",
      "    \"prompt_tokens\": 104,\n",
      "    \"total_tokens\": 1009\n",
      "  }\n",
      "}\n",
      "{\n",
      "  \"choices\": [\n",
      "    {\n",
      "      \"finish_reason\": \"stop\",\n",
      "      \"index\": 0,\n",
      "      \"message\": {\n",
      "        \"content\": \"House training a dog can be a daunting task, but with patience, consistency, and positive reinforcement, it can be achieved. Here\\u2019s a guide on how to effectively house train your dog:\\n\\n1. Establish a Routine: Potty training your dog requires a consistent routine. Set up a regular feeding schedule, and take your dog outside to the same spot to relieve himself at specific times throughout the day.\\n\\n2. Choose a Specific Area: Choose a specific area outside where you will take your dog to relieve himself. Choose a spot far from the main entrance to avoid confusion for the dog. It should also have some grass or a place where he can comfortably do his business.\\n\\n3. Praise Your Dog for Going Potty: Praise your dog immediately after going potty. It\\u2019s important to give your dog immediate positive reinforcement, so he understands that going potty outside is desirable.\\n\\n4. Punishment Should be Avoided: Punishment is not an effective means of motivating your dog to avoid accidents. It might even worsen the situation, increasing anxiety and stress. It will take more time and effort to train your dog if punishment is used.\\n\\n5. Consistent Supervision: If you can supervise your dog consistently after he has eaten, drank, exercised or walked, and play with him, use it as an opportunity to take him outside and encourage him to go potty. Most dogs have to relieve themselves after waking up, drinking, or eating, so take him outside immediately after any of these activities.\\n\\n6. Crate Training: A crate can be an effective tool for house training, but it should not be used to punish the dog. Dogs have an innate instinct not to soil their bed. If you use a crate and give enough time for the dog to learn and develop this habit, it can help house training a dog.\\n\\n7. Monitor Your Dog\\u2019s Food and Water Intake: Monitor your dog\\u2019s food and water intake. If you find your dog is drinking excess water, take him out often until he's fully trained. If he eats too much, it is also good to be vigilant to avoid a sudden accident inside the house.\\n\\n8. Accidents in the House: Accidents will happen, even with the best-trained dog. When it occurs, clean up the mess with an enzymatic cleaner to remove all traces of the mess. Failure to remove all odours might entice the dog to do his business in the same place. \\n\\n9. Different Types of Dogs: Different types of dogs will have different personality traits that can affect how you train them. Some dogs may be more independent and take time to learn, while others may be trainable in a short period. Understanding your dog\\u2019s traits will help you tailor the training to suit him or her the best.\\n\\n10. Emphasize Reinforcement and Patience: Reinforcement and patience are crucial key components of house training your dog. Positive reinforcement will encourage your dog, and he will start to understand what is required of him. Remember, house training will take time, and patience will help you avoid frustrations or giving up too soon.\\n\\nIn conclusion, each dog is unique, and house training can be a personal journey. However, following these tips and guidelines will help you develop a routine that is suitable for your dog. Be sure to show patience, and consistent enforcement of a routine and positive reinforcement for successful house training.\",\n",
      "        \"role\": \"assistant\"\n",
      "      }\n",
      "    }\n",
      "  ],\n",
      "  \"created\": 1685956286,\n",
      "  \"id\": \"chatcmpl-7O0XGM2lmBnt20H2hlBqvHvWI73Td\",\n",
      "  \"model\": \"gpt-3.5-turbo-0301\",\n",
      "  \"object\": \"chat.completion\",\n",
      "  \"usage\": {\n",
      "    \"completion_tokens\": 680,\n",
      "    \"prompt_tokens\": 59,\n",
      "    \"total_tokens\": 739\n",
      "  }\n",
      "}\n"
     ]
    }
   ],
   "source": [
    "import os\n",
    "import openai\n",
    "from env_config import Config\n",
    "\n",
    "openai.api_key = Config.OPENAI_API_KEY\n",
    "\n",
    "message = [\"\"\"Please provide a detailed guide on how to effectively house train a dog. Your response should include step-by-step instructions, helpful tips, and potential challenges that may arise during the process. Please also consider addressing common mistakes or misconceptions about house training and offering practical solutions to overcome them. Your guide should be easy to follow and catered to different types of dogs and their individual needs. Lastly, your response should emphasize positive reinforcement and patience as key components in successfully house training a dog.\"\"\", \"\"\"Please provide detailed guide on effectively house train should by instructions helpful tips and potential challenges arise during Please also addressing mistakes orsconception about house offering practical overcome them guide follow catered different types dogs individual Last your emphasize reinforcement patience key components in successfully house training\"\"\"]\n",
    "\n",
    "for i in range(2):\n",
    "    completion = openai.ChatCompletion.create(\n",
    "    model=\"gpt-3.5-turbo\",\n",
    "    messages=[\n",
    "        {\"role\": \"user\", \"content\": message[i]}\n",
    "    ],\n",
    "    n = 1\n",
    "    )\n",
    "    print(completion)\n",
    "\n"
   ]
  },
  {
   "cell_type": "code",
   "execution_count": null,
   "metadata": {},
   "outputs": [],
   "source": []
  }
 ],
 "metadata": {
  "kernelspec": {
   "display_name": "llm",
   "language": "python",
   "name": "python3"
  },
  "language_info": {
   "codemirror_mode": {
    "name": "ipython",
    "version": 3
   },
   "file_extension": ".py",
   "mimetype": "text/x-python",
   "name": "python",
   "nbconvert_exporter": "python",
   "pygments_lexer": "ipython3",
   "version": "3.11.2"
  },
  "orig_nbformat": 4
 },
 "nbformat": 4,
 "nbformat_minor": 2
}
