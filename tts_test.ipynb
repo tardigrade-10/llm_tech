{
 "cells": [
  {
   "cell_type": "code",
   "execution_count": 2,
   "metadata": {},
   "outputs": [],
   "source": [
    "# %pip install --upgrade openai"
   ]
  },
  {
   "cell_type": "code",
   "execution_count": 5,
   "metadata": {},
   "outputs": [],
   "source": [
    "from pathlib import Path\n",
    "from openai import OpenAI\n",
    "from dotenv import load_dotenv\n",
    "\n",
    "load_dotenv()\n",
    "\n",
    "client = OpenAI()"
   ]
  },
  {
   "cell_type": "code",
   "execution_count": 12,
   "metadata": {},
   "outputs": [],
   "source": [
    "speech_file_path = \"tts_audios/time_travel_full_3.mp3\"\n",
    "\n",
    "input = \"\"\"\n",
    "But what does all this mean for us, in a philosophical sense?\n",
    "\n",
    "What does time travel really mean for us, and how does it challenge our perception of reality?\n",
    "\n",
    "Time travel isn't just a physical concept; it's a philosophical puzzle. If we could travel in time, what does that say about the nature of our universe? Are we in a fixed timeline, or are we part of countless possible futures?\n",
    "\n",
    "Think about it. Our lives are a series of moments, one after the other. If time travel were possible, it would mean these moments could be revisited or even rewritten. It challenges the very essence of our experiences, memories, and choices.\n",
    "\n",
    "Free will plays a big role here. If we can change the past or see the future, are we still the masters of our destiny, or are we just actors following a script written by our future selves?\n",
    "\n",
    "In Doctor Who, the Doctor's adventures across time can be seen as a metaphor for our own journey through life. Each choice we make, each path we take, is like traveling through our own personal timeline.\n",
    "\n",
    "And let's not forget the paradoxes. If you go back in time and change something, what happens to the future you came from? These mind-bending paradoxes are not just plot points in sci-fi shows; they are real philosophical dilemmas that challenge our understanding of causality and existence.\n",
    "\n",
    "As we stand here, in the present, we might not have a time machine, but we do have the power to shape our future through the choices we make today. Time travel, in essence, teaches us the importance of the present moment and the profound impact of our actions on our future selves and the world around us.\n",
    "\n",
    "In the end, perhaps the most powerful form of time travel is the journey through our own lives - every decision, every dream, every moment. In this journey, we're all time travelers, navigating the mysterious river of time, shaping our destiny with every step we take.\n",
    "\n",
    "Thank you for joining me on this extraordinary exploration of time travel. Remember, the future is not written yet; it's ours to create. Until next time, keep exploring, keep wondering, and keep looking beyond the bounds of the present.\n",
    "\"\"\"\n",
    "\n",
    "response = client.audio.speech.create(\n",
    "  model=\"tts-1\",\n",
    "  voice=\"alloy\",\n",
    "  input=input,\n",
    ")\n",
    "\n",
    "response.stream_to_file(speech_file_path)"
   ]
  },
  {
   "cell_type": "code",
   "execution_count": null,
   "metadata": {},
   "outputs": [],
   "source": []
  }
 ],
 "metadata": {
  "kernelspec": {
   "display_name": "llm",
   "language": "python",
   "name": "python3"
  },
  "language_info": {
   "codemirror_mode": {
    "name": "ipython",
    "version": 3
   },
   "file_extension": ".py",
   "mimetype": "text/x-python",
   "name": "python",
   "nbconvert_exporter": "python",
   "pygments_lexer": "ipython3",
   "version": "3.11.2"
  }
 },
 "nbformat": 4,
 "nbformat_minor": 2
}
