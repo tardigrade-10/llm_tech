{
 "cells": [
  {
   "cell_type": "code",
   "execution_count": 2,
   "metadata": {},
   "outputs": [],
   "source": [
    "# %pip install --upgrade openai"
   ]
  },
  {
   "cell_type": "code",
   "execution_count": 2,
   "metadata": {},
   "outputs": [],
   "source": [
    "from pathlib import Path\n",
    "from openai import OpenAI\n",
    "from dotenv import load_dotenv\n",
    "\n",
    "load_dotenv()\n",
    "\n",
    "client = OpenAI()"
   ]
  },
  {
   "cell_type": "code",
   "execution_count": 3,
   "metadata": {},
   "outputs": [],
   "source": [
    "input = \"\"\"\n",
    "Today, we're diving into this amazing concept called infinite loops in programming. Let’s see how they work!\n",
    "Here, we initialize 'a' to 10. The while loop checks if 'a' is less than 11, which it is, so the loop starts.\n",
    "Inside the loop, we print 'a' and then decrease its value by 1. So 'a' becomes 9.\n",
    "Now, 'a' is 9, still less than 11. The loop repeats endlessly, hence an infinite loop.\n",
    "\n",
    "\"\"\"\n",
    "\n",
    "goodies_ = \"\"\"And now you can stand a chance to win astronomy themed goodies collection, if you are able to answer this question correctly. So, fingers crossed and good luck to all of you!\"\"\"\n",
    "\n",
    "\n",
    "\n",
    "response = client.audio.speech.create(\n",
    "  model=\"tts-1\",\n",
    "  voice=\"alloy\",\n",
    "  input=input,\n",
    ")\n",
    "\n",
    "speech_file_path = \"tts_audios/infinite_loop.mp3\"\n",
    "response.stream_to_file(speech_file_path)"
   ]
  },
  {
   "cell_type": "code",
   "execution_count": 4,
   "metadata": {},
   "outputs": [
    {
     "data": {
      "text/plain": [
       "['January', 'is', 'year', 'the', 'of', 'month', 'first']"
      ]
     },
     "execution_count": 4,
     "metadata": {},
     "output_type": "execute_result"
    }
   ],
   "source": [
    "lis = ['first', 'month', 'of', 'the', 'year', 'is', 'January']\n",
    "\n",
    "lis[::-1]"
   ]
  },
  {
   "cell_type": "code",
   "execution_count": null,
   "metadata": {},
   "outputs": [],
   "source": []
  }
 ],
 "metadata": {
  "kernelspec": {
   "display_name": "llm",
   "language": "python",
   "name": "python3"
  },
  "language_info": {
   "codemirror_mode": {
    "name": "ipython",
    "version": 3
   },
   "file_extension": ".py",
   "mimetype": "text/x-python",
   "name": "python",
   "nbconvert_exporter": "python",
   "pygments_lexer": "ipython3",
   "version": "3.11.2"
  }
 },
 "nbformat": 4,
 "nbformat_minor": 2
}
