{
 "cells": [
  {
   "cell_type": "code",
   "execution_count": 1,
   "metadata": {},
   "outputs": [
    {
     "name": "stderr",
     "output_type": "stream",
     "text": [
      "Could not import azure.core python package.\n",
      "c:\\Users\\DELL\\anaconda3\\envs\\llm\\Lib\\site-packages\\tqdm\\auto.py:21: TqdmWarning: IProgress not found. Please update jupyter and ipywidgets. See https://ipywidgets.readthedocs.io/en/stable/user_install.html\n",
      "  from .autonotebook import tqdm as notebook_tqdm\n"
     ]
    }
   ],
   "source": [
    "from llama_index import GPTVectorStoreIndex, SimpleDirectoryReader\n",
    "\n",
    "docs = SimpleDirectoryReader('data/papers').load_data()\n",
    "index = GPTVectorStoreIndex.from_documents(docs)\n",
    "query_engine = index.as_query_engine()"
   ]
  },
  {
   "cell_type": "code",
   "execution_count": 6,
   "metadata": {},
   "outputs": [
    {
     "name": "stdout",
     "output_type": "stream",
     "text": [
      "\n",
      "PaLM 2-L score on TriviaQA (EM) task is 79.2.\n"
     ]
    }
   ],
   "source": [
    "ques = \"What is PaLM 2-L score on TriviaQA (EM) task?\"\n",
    "response = query_engine.query(ques)\n",
    "with open(\"qna.txt\", 'a') as f:\n",
    "    f.write(\"Q: \" + ques + \"\\n\")\n",
    "    f.write(\"\\nA: \" + str(response) + \"\\n\")\n",
    "print(response)"
   ]
  },
  {
   "cell_type": "code",
   "execution_count": 20,
   "metadata": {},
   "outputs": [],
   "source": [
    "import importlib\n",
    "import utils\n",
    "importlib.reload(utils)\n",
    "from utils import pdf_to_txt\n",
    "import os\n",
    "\n",
    "cwd = os.getcwd()\n",
    "\n",
    "pdf_to_txt(cwd+'/2305.10403.pdf')"
   ]
  },
  {
   "cell_type": "code",
   "execution_count": 13,
   "metadata": {},
   "outputs": [
    {
     "data": {
      "text/plain": [
       "'c:\\\\Users\\\\DELL\\\\Documents\\\\python_projects\\\\llm_app\\\\llm_tech'"
      ]
     },
     "execution_count": 13,
     "metadata": {},
     "output_type": "execute_result"
    }
   ],
   "source": [
    "import os\n",
    "os.getcwd()"
   ]
  },
  {
   "cell_type": "code",
   "execution_count": 19,
   "metadata": {},
   "outputs": [],
   "source": [
    "from llama_index import LLMPredictor, GPTVectorStoreIndex, PromptHelper, ServiceContext\n",
    "from langchain.chat_models import ChatOpenAI\n",
    "\n",
    "\n",
    "# define LLM\n",
    "llm_predictor = LLMPredictor(llm=ChatOpenAI(temperature=0, model_name=\"gpt-3.5-turbo\", streaming=True))\n",
    "docs = SimpleDirectoryReader('data/papers').load_data()\n",
    "\n",
    "# define prompt helper\n",
    "# set maximum input size\n",
    "# max_input_size = 4096\n",
    "# # set number of output tokens\n",
    "# num_output = 256\n",
    "# # set maximum chunk overlap\n",
    "# max_chunk_overlap = 20\n",
    "# prompt_helper = PromptHelper(max_input_size, num_output, max_chunk_overlap)\n",
    "\n",
    "# service_context = ServiceContext.from_defaults(llm_predictor=llm_predictor) \n",
    "                                            #    prompt_helper=prompt_helper)\n",
    "\n",
    "index = GPTVectorStoreIndex.from_documents(docs)\n",
    "# service_context=service_context)\n",
    "\n",
    "query_engine = index.as_query_engine()\n",
    "    # service_context=service_context)"
   ]
  },
  {
   "cell_type": "code",
   "execution_count": 22,
   "metadata": {},
   "outputs": [
    {
     "name": "stdout",
     "output_type": "stream",
     "text": [
      "\n",
      "This report presents XL-sum, a large-scale multilingual abstractive summarization system for 44 languages.\n"
     ]
    }
   ],
   "source": [
    "\n",
    "query = \"What is the first line in the abstract of this report?\"\n",
    "response = query_engine.query(query)\n",
    "with open(\"qna.txt\", 'a') as f:\n",
    "    f.write(\"Q: \" + query + \"\\n\")\n",
    "    f.write(\"\\nA: \" + str(response) + \"\\n\")\n",
    "print(response)"
   ]
  },
  {
   "cell_type": "code",
   "execution_count": null,
   "metadata": {},
   "outputs": [],
   "source": []
  }
 ],
 "metadata": {
  "kernelspec": {
   "display_name": "llm",
   "language": "python",
   "name": "python3"
  },
  "language_info": {
   "codemirror_mode": {
    "name": "ipython",
    "version": 3
   },
   "file_extension": ".py",
   "mimetype": "text/x-python",
   "name": "python",
   "nbconvert_exporter": "python",
   "pygments_lexer": "ipython3",
   "version": "3.11.2"
  },
  "orig_nbformat": 4
 },
 "nbformat": 4,
 "nbformat_minor": 2
}
