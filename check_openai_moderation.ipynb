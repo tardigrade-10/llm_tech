{
 "cells": [
  {
   "cell_type": "code",
   "execution_count": 17,
   "metadata": {},
   "outputs": [],
   "source": [
    "from openai import OpenAI\n",
    "import os\n",
    "import base64\n",
    "\n",
    "client = OpenAI()\n",
    "\n",
    "def checkImg(img_path):\n",
    "\n",
    "    with open(img_path, \"rb\") as image_file:\n",
    "        encoded_string = base64.b64encode(image_file.read()).decode(\"utf-8\")\n",
    "        # print(encoded_string)\n",
    "\n",
    "    response = client.moderations.create(\n",
    "        model=\"omni-moderation-latest\",\n",
    "        input=[\n",
    "            {\n",
    "                \"type\": \"image_url\",\n",
    "                \"image_url\": {\n",
    "                    \"url\": f\"data:image/jpeg;base64,{encoded_string}\"\n",
    "                }\n",
    "            },\n",
    "        ],\n",
    "    )\n",
    "\n",
    "    res = response.results[0].to_dict()\n",
    "\n",
    "    print(\"Image:\", img_path)\n",
    "    print(\"Flagged:\", res[\"flagged\"])\n",
    "    flagged_cats = [cat for cat in res[\"categories\"] if res['categories'][cat] == True]\n",
    "    print(\"Categories:\", flagged_cats)\n",
    "    print()"
   ]
  },
  {
   "cell_type": "code",
   "execution_count": 18,
   "metadata": {},
   "outputs": [
    {
     "name": "stdout",
     "output_type": "stream",
     "text": [
      "Image: nsfw_images\\fre15j846mq11.jpg\n",
      "Flagged: True\n",
      "Categories: ['sexual']\n",
      "Image: nsfw_images\\fRHoeXQVvF.jpg\n",
      "Flagged: True\n",
      "Categories: ['violence']\n",
      "Image: nsfw_images\\frvnfiR.jpg\n",
      "Flagged: False\n",
      "Categories: []\n",
      "Image: nsfw_images\\fS5MZu5.jpg\n",
      "Flagged: True\n",
      "Categories: ['sexual']\n",
      "Image: nsfw_images\\FSvVUj1.jpg\n",
      "Flagged: False\n",
      "Categories: []\n",
      "Image: nsfw_images\\FzWheHo.jpg\n",
      "Flagged: True\n",
      "Categories: ['sexual']\n",
      "Image: nsfw_images\\fZYJpa0.jpg\n",
      "Flagged: False\n",
      "Categories: []\n",
      "Image: nsfw_images\\g0h2Voq.jpg\n",
      "Flagged: True\n",
      "Categories: ['violence']\n",
      "Image: nsfw_images\\g2BBHH7.jpg\n",
      "Flagged: True\n",
      "Categories: ['sexual']\n",
      "Image: nsfw_images\\g3BbbcJ.jpg\n",
      "Flagged: True\n",
      "Categories: ['sexual']\n"
     ]
    }
   ],
   "source": [
    "img_dir = 'nsfw_images'\n",
    "imgs = os.listdir(img_dir)\n",
    "\n",
    "img_paths = [os.path.join(img_dir, img) for img in imgs]\n",
    "\n",
    "for img_path in img_paths:\n",
    "    checkImg(img_path)"
   ]
  },
  {
   "cell_type": "code",
   "execution_count": null,
   "metadata": {},
   "outputs": [],
   "source": []
  }
 ],
 "metadata": {
  "kernelspec": {
   "display_name": "llm",
   "language": "python",
   "name": "python3"
  },
  "language_info": {
   "codemirror_mode": {
    "name": "ipython",
    "version": 3
   },
   "file_extension": ".py",
   "mimetype": "text/x-python",
   "name": "python",
   "nbconvert_exporter": "python",
   "pygments_lexer": "ipython3",
   "version": "3.11.2"
  }
 },
 "nbformat": 4,
 "nbformat_minor": 2
}
