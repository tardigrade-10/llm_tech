{
 "cells": [
  {
   "cell_type": "code",
   "execution_count": 62,
   "metadata": {},
   "outputs": [
    {
     "name": "stdout",
     "output_type": "stream",
     "text": [
      "0123456789\n",
      "True\n",
      "True\n",
      "True\n",
      "False\n",
      "Forward: None\n"
     ]
    }
   ],
   "source": [
    "import pyparsing as pp\n",
    "from pyparsing import nums, alphas, Word, Char, Forward, one_of, Literal, alphanums, Combine\n",
    "\n",
    "print(nums)\n",
    "print(Word(nums) == \"456\")\n",
    "print(Word(alphas) == \"rakesh\") \n",
    "print(Char(alphas) == \"r\")\n",
    "print(Char(alphas) == \"asdsdf\")\n",
    "print(Forward())\n"
   ]
  },
  {
   "cell_type": "code",
   "execution_count": 57,
   "metadata": {},
   "outputs": [
    {
     "data": {
      "text/plain": [
       "True"
      ]
     },
     "execution_count": 57,
     "metadata": {},
     "output_type": "execute_result"
    }
   ],
   "source": [
    "Word(alphas+\" \",) == \"yash is a good boy\""
   ]
  },
  {
   "cell_type": "code",
   "execution_count": 56,
   "metadata": {},
   "outputs": [
    {
     "data": {
      "text/plain": [
       "W:(A-Z_a-z, 0-9A-Z_a-z)"
      ]
     },
     "execution_count": 56,
     "metadata": {},
     "output_type": "execute_result"
    }
   ],
   "source": [
    "Word(alphas+\"_\", alphanums+\"_\")"
   ]
  },
  {
   "cell_type": "code",
   "execution_count": 61,
   "metadata": {},
   "outputs": [
    {
     "data": {
      "text/plain": [
       "False"
      ]
     },
     "execution_count": 61,
     "metadata": {},
     "output_type": "execute_result"
    }
   ],
   "source": [
    "Word(\"alphas\")[1, ...] == \"\""
   ]
  },
  {
   "cell_type": "code",
   "execution_count": 66,
   "metadata": {},
   "outputs": [
    {
     "name": "stdout",
     "output_type": "stream",
     "text": [
      "Combine:([W:(A-Za-z)]...)\n"
     ]
    }
   ],
   "source": [
    "number = Word(nums)\n",
    "name = Combine(Word(alphas)[...], adjacent=False, join_string=\" \")\n",
    "print(name)\n",
    "parser = number(\"house_number\") + name(\"street_name\")\n",
    "result = parser.parse_string(\"123 Main St\")"
   ]
  },
  {
   "cell_type": "code",
   "execution_count": 71,
   "metadata": {},
   "outputs": [
    {
     "data": {
      "text/plain": [
       "{'house_number': '123', 'street_name': 'Main St'}"
      ]
     },
     "execution_count": 71,
     "metadata": {},
     "output_type": "execute_result"
    }
   ],
   "source": [
    "result.as_dict()"
   ]
  },
  {
   "cell_type": "code",
   "execution_count": 72,
   "metadata": {},
   "outputs": [
    {
     "name": "stdout",
     "output_type": "stream",
     "text": [
      "['123', 'Main St']\n",
      "- house_number: '123'\n",
      "- street_name: 'Main St'\n"
     ]
    }
   ],
   "source": [
    "print(result.dump())"
   ]
  },
  {
   "cell_type": "code",
   "execution_count": 39,
   "metadata": {},
   "outputs": [],
   "source": [
    "integer  = Word(nums)            # simple unsigned integer\n",
    "variable = Char(alphas)          # single letter variable, such as x, z, m, etc.\n",
    "arith_op = one_of(\"+ - * /\")      # arithmetic operator\n",
    "comparison = one_of(\"== != > <\")   # comparison operator\n",
    "\n",
    "lineq = variable + \"=\" + integer + arith_op + integer    # will match \"x=2+2\", etc.\n",
    "quadeq = variable + \"=\" + variable + \"*\" + variable + \"+\" + integer + \"*\" + variable + \"+\" + integer  # matches \"y=x*x+4x+5\" etc."
   ]
  },
  {
   "cell_type": "code",
   "execution_count": 42,
   "metadata": {},
   "outputs": [
    {
     "name": "stdout",
     "output_type": "stream",
     "text": [
      "{(A-Za-z) '=' (A-Za-z) '*' (A-Za-z) '+' W:(0-9) '*' (A-Za-z) '+' W:(0-9)}\n"
     ]
    }
   ],
   "source": [
    "print(quadeq)"
   ]
  },
  {
   "cell_type": "code",
   "execution_count": 41,
   "metadata": {},
   "outputs": [
    {
     "name": "stdout",
     "output_type": "stream",
     "text": [
      "True\n",
      "True\n"
     ]
    }
   ],
   "source": [
    "print(lineq == \"x=2+ 2\") # ignoring whitespace and formatting \n",
    "print(quadeq == \"y=x*x+4*x+5\") "
   ]
  },
  {
   "cell_type": "code",
   "execution_count": 14,
   "metadata": {},
   "outputs": [
    {
     "name": "stdout",
     "output_type": "stream",
     "text": [
      "['A', '12']\n"
     ]
    }
   ],
   "source": [
    "alphanums = pp.Word(pp.alphas) + pp.Word(pp.nums)\n",
    "\n",
    "print(alphanums.parse_string(\"A12\")) # ['A', '12'])"
   ]
  },
  {
   "cell_type": "code",
   "execution_count": 8,
   "metadata": {},
   "outputs": [
    {
     "data": {
      "text/plain": [
       "'0123456789'"
      ]
     },
     "execution_count": 8,
     "metadata": {},
     "output_type": "execute_result"
    }
   ],
   "source": [
    "pp.nums"
   ]
  },
  {
   "cell_type": "code",
   "execution_count": 16,
   "metadata": {},
   "outputs": [
    {
     "data": {
      "text/plain": [
       "False"
      ]
     },
     "execution_count": 16,
     "metadata": {},
     "output_type": "execute_result"
    }
   ],
   "source": [
    "Char()"
   ]
  },
  {
   "cell_type": "code",
   "execution_count": null,
   "metadata": {},
   "outputs": [],
   "source": []
  }
 ],
 "metadata": {
  "kernelspec": {
   "display_name": "llm",
   "language": "python",
   "name": "python3"
  },
  "language_info": {
   "codemirror_mode": {
    "name": "ipython",
    "version": 3
   },
   "file_extension": ".py",
   "mimetype": "text/x-python",
   "name": "python",
   "nbconvert_exporter": "python",
   "pygments_lexer": "ipython3",
   "version": "3.11.2"
  },
  "orig_nbformat": 4
 },
 "nbformat": 4,
 "nbformat_minor": 2
}
