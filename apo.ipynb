{
 "cells": [
  {
   "cell_type": "code",
   "execution_count": 1,
   "metadata": {},
   "outputs": [
    {
     "ename": "NameError",
     "evalue": "name 'Dtr' is not defined",
     "output_type": "error",
     "traceback": [
      "\u001b[1;31m---------------------------------------------------------------------------\u001b[0m",
      "\u001b[1;31mNameError\u001b[0m                                 Traceback (most recent call last)",
      "Cell \u001b[1;32mIn[1], line 61\u001b[0m\n\u001b[0;32m     56\u001b[0m     \u001b[39mreturn\u001b[39;00m random\u001b[39m.\u001b[39mrandom()  \u001b[39m# Random score for demonstration purposes\u001b[39;00m\n\u001b[0;32m     58\u001b[0m \u001b[39m# Define other helper functions and variables used in the algorithms\u001b[39;00m\n\u001b[0;32m     59\u001b[0m \n\u001b[0;32m     60\u001b[0m \u001b[39m# Call the algorithm with the initial prompt, beam width, search depth, and metric function\u001b[39;00m\n\u001b[1;32m---> 61\u001b[0m optimized_prompt \u001b[39m=\u001b[39m automatic_prompt_optimization(p0, b, r, metric_function)\n\u001b[0;32m     62\u001b[0m \u001b[39mprint\u001b[39m(\u001b[39m\"\u001b[39m\u001b[39mOptimized prompt:\u001b[39m\u001b[39m\"\u001b[39m, optimized_prompt)\n",
      "Cell \u001b[1;32mIn[1], line 8\u001b[0m, in \u001b[0;36mautomatic_prompt_optimization\u001b[1;34m(p0, b, r, m)\u001b[0m\n\u001b[0;32m      6\u001b[0m     C \u001b[39m=\u001b[39m []\n\u001b[0;32m      7\u001b[0m     \u001b[39mfor\u001b[39;00m p \u001b[39min\u001b[39;00m B:\n\u001b[1;32m----> 8\u001b[0m         C\u001b[39m.\u001b[39mextend(expand(p))\n\u001b[0;32m      9\u001b[0m     B \u001b[39m=\u001b[39m select(C, b, m)\n\u001b[0;32m     10\u001b[0m \u001b[39mreturn\u001b[39;00m \u001b[39mmax\u001b[39m(B, key\u001b[39m=\u001b[39m\u001b[39mlambda\u001b[39;00m p: m(p))\n",
      "Cell \u001b[1;32mIn[1], line 13\u001b[0m, in \u001b[0;36mexpand\u001b[1;34m(p)\u001b[0m\n\u001b[0;32m     12\u001b[0m \u001b[39mdef\u001b[39;00m \u001b[39mexpand\u001b[39m(p):\n\u001b[1;32m---> 13\u001b[0m     Dmini \u001b[39m=\u001b[39m sample_minibatch(Dtr)\n\u001b[0;32m     14\u001b[0m     e \u001b[39m=\u001b[39m evaluate_prompt(p, Dmini)\n\u001b[0;32m     15\u001b[0m     g \u001b[39m=\u001b[39m generate_gradients(p, e)\n",
      "\u001b[1;31mNameError\u001b[0m: name 'Dtr' is not defined"
     ]
    }
   ],
   "source": [
    "# reference: https://arxiv.org/abs/2305.03495\n",
    "\n",
    "import random\n",
    "\n",
    "def automatic_prompt_optimization(p0, b, r, m):\n",
    "    B = [p0]\n",
    "    for i in range(1, r):\n",
    "        C = []\n",
    "        for p in B:\n",
    "            C.extend(expand(p))\n",
    "        B = select(C, b, m)\n",
    "    return max(B, key=lambda p: m(p))\n",
    "\n",
    "def expand(p):\n",
    "    Dmini = sample_minibatch(Dtr)\n",
    "    e = evaluate_prompt(p, Dmini)\n",
    "    g = generate_gradients(p, e)\n",
    "    p0 = edit_prompt(p, g, e)\n",
    "    p00 = generate_successors(p0)\n",
    "    return [p0] + p00\n",
    "\n",
    "def select(prompts, b, m):\n",
    "    S = prompts.copy()\n",
    "    for _ in range(len(prompts) - 1):\n",
    "        Dsample = sample_dataset(Dtr, len(S))\n",
    "        scores = [m(p, Dsample) for p in S]\n",
    "        min_score_index = scores.index(min(scores))\n",
    "        S.pop(min_score_index)\n",
    "    return S\n",
    "\n",
    "def sample_minibatch(Dtr):\n",
    "    return random.sample(Dtr, k=min(len(Dtr), minibatch_size))\n",
    "\n",
    "def evaluate_prompt(p, Dmini):\n",
    "    errors = [f(xi, yi) for xi, yi in Dmini if LLMp(xi) != yi]\n",
    "    return errors\n",
    "\n",
    "def generate_gradients(p, e):\n",
    "    return LLMr(p, e)\n",
    "\n",
    "def edit_prompt(p, g, e):\n",
    "    return LLM_edit(p, g, e)\n",
    "\n",
    "def generate_successors(p0):\n",
    "    return [LLM_mc(p0)]\n",
    "\n",
    "def sample_dataset(Dtr, size):\n",
    "    return random.sample(Dtr, k=size)\n",
    "\n",
    "# Example usage:\n",
    "p0 = \"initial prompt\"\n",
    "b = 3\n",
    "r = 5\n",
    "\n",
    "# Define the metric function m\n",
    "def metric_function(p):\n",
    "    # Replace this with your own implementation\n",
    "    return random.random()  # Random score for demonstration purposes\n",
    "\n",
    "# Define other helper functions and variables used in the algorithms\n",
    "\n",
    "# Call the algorithm with the initial prompt, beam width, search depth, and metric function\n",
    "optimized_prompt = automatic_prompt_optimization(p0, b, r, metric_function)\n",
    "print(\"Optimized prompt:\", optimized_prompt)\n"
   ]
  },
  {
   "cell_type": "code",
   "execution_count": null,
   "metadata": {},
   "outputs": [],
   "source": []
  }
 ],
 "metadata": {
  "kernelspec": {
   "display_name": "llm",
   "language": "python",
   "name": "python3"
  },
  "language_info": {
   "codemirror_mode": {
    "name": "ipython",
    "version": 3
   },
   "file_extension": ".py",
   "mimetype": "text/x-python",
   "name": "python",
   "nbconvert_exporter": "python",
   "pygments_lexer": "ipython3",
   "version": "3.11.2"
  },
  "orig_nbformat": 4
 },
 "nbformat": 4,
 "nbformat_minor": 2
}
