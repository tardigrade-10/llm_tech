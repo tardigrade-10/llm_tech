{
 "cells": [
  {
   "cell_type": "code",
   "execution_count": 20,
   "metadata": {},
   "outputs": [
    {
     "ename": "AttributeError",
     "evalue": "'str' object has no attribute 'get'",
     "output_type": "error",
     "traceback": [
      "\u001b[1;31m---------------------------------------------------------------------------\u001b[0m",
      "\u001b[1;31mAttributeError\u001b[0m                            Traceback (most recent call last)",
      "Cell \u001b[1;32mIn[20], line 7\u001b[0m\n\u001b[0;32m      3\u001b[0m \u001b[39mimport\u001b[39;00m \u001b[39mos\u001b[39;00m\n\u001b[0;32m      5\u001b[0m os\u001b[39m.\u001b[39menviron[\u001b[39m'\u001b[39m\u001b[39mOPENAI_API_KEY\u001b[39m\u001b[39m'\u001b[39m] \u001b[39m=\u001b[39m Config\u001b[39m.\u001b[39mOPENAI_API_KEY\n\u001b[1;32m----> 7\u001b[0m config \u001b[39m=\u001b[39m RailsConfig\u001b[39m.\u001b[39;49mparse_object(\n\u001b[0;32m      8\u001b[0m         {\n\u001b[0;32m      9\u001b[0m             \u001b[39m\"\u001b[39;49m\u001b[39mmodels\u001b[39;49m\u001b[39m\"\u001b[39;49m: [\n\u001b[0;32m     10\u001b[0m                 {\u001b[39m\"\u001b[39;49m\u001b[39mtype\u001b[39;49m\u001b[39m\"\u001b[39;49m: \u001b[39m\"\u001b[39;49m\u001b[39mmain\u001b[39;49m\u001b[39m\"\u001b[39;49m, \u001b[39m\"\u001b[39;49m\u001b[39mengine\u001b[39;49m\u001b[39m\"\u001b[39;49m: \u001b[39m\"\u001b[39;49m\u001b[39mopenai\u001b[39;49m\u001b[39m\"\u001b[39;49m, \u001b[39m\"\u001b[39;49m\u001b[39mmodel\u001b[39;49m\u001b[39m\"\u001b[39;49m: \u001b[39m\"\u001b[39;49m\u001b[39mgpt-3.5-turbo\u001b[39;49m\u001b[39m\"\u001b[39;49m, \u001b[39m\"\u001b[39;49m\u001b[39mparameters\u001b[39;49m\u001b[39m\"\u001b[39;49m: {\n\u001b[0;32m     11\u001b[0m                     \u001b[39m\"\u001b[39;49m\u001b[39mmax_tokens\u001b[39;49m\u001b[39m\"\u001b[39;49m: \u001b[39m10\u001b[39;49m\n\u001b[0;32m     12\u001b[0m                 }}\n\u001b[0;32m     13\u001b[0m             ],\n\u001b[0;32m     14\u001b[0m             \u001b[39m\"\u001b[39;49m\u001b[39minstructions\u001b[39;49m\u001b[39m\"\u001b[39;49m: [\n\u001b[0;32m     15\u001b[0m                 {\n\u001b[0;32m     16\u001b[0m                     \u001b[39m\"\u001b[39;49m\u001b[39mtype\u001b[39;49m\u001b[39m\"\u001b[39;49m: \u001b[39m\"\u001b[39;49m\u001b[39mgeneral\u001b[39;49m\u001b[39m\"\u001b[39;49m,\n\u001b[0;32m     17\u001b[0m                     \u001b[39m\"\u001b[39;49m\u001b[39mcontent\u001b[39;49m\u001b[39m\"\u001b[39;49m: \u001b[39m\"\u001b[39;49m\u001b[39mUse a maximum of five words when answering any request.\u001b[39;49m\u001b[39m\"\u001b[39;49m,\n\u001b[0;32m     18\u001b[0m                 }\n\u001b[0;32m     19\u001b[0m             ],\n\u001b[0;32m     20\u001b[0m             \u001b[39m\"\u001b[39;49m\u001b[39mflows\u001b[39;49m\u001b[39m\"\u001b[39;49m: [{\u001b[39m\"\u001b[39;49m\u001b[39melements\u001b[39;49m\u001b[39m\"\u001b[39;49m: [\u001b[39m\"\u001b[39;49m\u001b[39muser ask capabilities\u001b[39;49m\u001b[39m\"\u001b[39;49m, \u001b[39m\"\u001b[39;49m\u001b[39mbot inform capabilities\u001b[39;49m\u001b[39m\"\u001b[39;49m]\n\u001b[0;32m     21\u001b[0m         }]\n\u001b[0;32m     22\u001b[0m         }\n\u001b[0;32m     23\u001b[0m     )\n\u001b[0;32m     25\u001b[0m \u001b[39m# config = RailsConfig.from_path(r\"guardrails_config\")\u001b[39;00m\n\u001b[0;32m     27\u001b[0m \u001b[39mprint\u001b[39m(config)\n",
      "File \u001b[1;32mc:\\Users\\DELL\\anaconda3\\envs\\llm\\Lib\\site-packages\\nemoguardrails\\rails\\llm\\config.py:345\u001b[0m, in \u001b[0;36mRailsConfig.parse_object\u001b[1;34m(cls, obj)\u001b[0m\n\u001b[0;32m    342\u001b[0m \u001b[39m# If we have flows, we need to process them further from CoYML to CIL.\u001b[39;00m\n\u001b[0;32m    343\u001b[0m \u001b[39mfor\u001b[39;00m flow_data \u001b[39min\u001b[39;00m obj\u001b[39m.\u001b[39mget(\u001b[39m\"\u001b[39m\u001b[39mflows\u001b[39m\u001b[39m\"\u001b[39m, []):\n\u001b[0;32m    344\u001b[0m     \u001b[39m# If the first element in the flow does not have a \"_type\", we need to convert\u001b[39;00m\n\u001b[1;32m--> 345\u001b[0m     \u001b[39mif\u001b[39;00m flow_data\u001b[39m.\u001b[39mget(\u001b[39m\"\u001b[39m\u001b[39melements\u001b[39m\u001b[39m\"\u001b[39m) \u001b[39mand\u001b[39;00m \u001b[39mnot\u001b[39;00m flow_data[\u001b[39m\"\u001b[39;49m\u001b[39melements\u001b[39;49m\u001b[39m\"\u001b[39;49m][\u001b[39m0\u001b[39;49m]\u001b[39m.\u001b[39;49mget(\u001b[39m\"\u001b[39m\u001b[39m_type\u001b[39m\u001b[39m\"\u001b[39m):\n\u001b[0;32m    346\u001b[0m         flow_data[\u001b[39m\"\u001b[39m\u001b[39melements\u001b[39m\u001b[39m\"\u001b[39m] \u001b[39m=\u001b[39m parse_flow_elements(flow_data[\u001b[39m\"\u001b[39m\u001b[39melements\u001b[39m\u001b[39m\"\u001b[39m])\n\u001b[0;32m    348\u001b[0m \u001b[39mreturn\u001b[39;00m RailsConfig\u001b[39m.\u001b[39mparse_obj(obj)\n",
      "\u001b[1;31mAttributeError\u001b[0m: 'str' object has no attribute 'get'"
     ]
    }
   ],
   "source": [
    "from nemoguardrails import LLMRails, RailsConfig\n",
    "from env_config import Config\n",
    "import os\n",
    "\n",
    "os.environ['OPENAI_API_KEY'] = Config.OPENAI_API_KEY\n",
    "\n",
    "config = RailsConfig.parse_object(\n",
    "        {\n",
    "            \"models\": [\n",
    "                {\"type\": \"main\", \"engine\": \"openai\", \"model\": \"gpt-3.5-turbo\", \"parameters\": {\n",
    "                    \"max_tokens\": 10\n",
    "                }}\n",
    "            ],\n",
    "            \"instructions\": [\n",
    "                {\n",
    "                    \"type\": \"general\",\n",
    "                    \"content\": \"Use a maximum of five words when answering any request.\",\n",
    "                }\n",
    "\n",
    "            ],\n",
    "            \"flows\": [{\"elements\": [\"user ask capabilities\", \"bot inform capabilities\"]\n",
    "        }]\n",
    "        }\n",
    "    )\n",
    "\n",
    "# config = RailsConfig.from_path(r\"guardrails_config\")\n",
    "\n",
    "print(config)\n",
    "\n",
    "\n",
    "\n",
    "app = LLMRails(config)\n",
    "\n",
    "new_message = await app.generate_async(messages=[{\n",
    "    \"role\": \"user\",\n",
    "    \"content\": \"What is the capital of USA? Can you tell me something about it?\"\n",
    "}])\n",
    "print(new_message)"
   ]
  },
  {
   "cell_type": "code",
   "execution_count": 10,
   "metadata": {},
   "outputs": [
    {
     "data": {
      "text/plain": [
       "{'role': 'assistant',\n",
       " 'content': \"Hi there! I'm your virtual assistant. I can help you find information, manage your calendar, and remind you of events. What would you like me to do?\"}"
      ]
     },
     "execution_count": 10,
     "metadata": {},
     "output_type": "execute_result"
    }
   ],
   "source": [
    "new_message"
   ]
  },
  {
   "cell_type": "code",
   "execution_count": null,
   "metadata": {},
   "outputs": [],
   "source": []
  }
 ],
 "metadata": {
  "kernelspec": {
   "display_name": "llm",
   "language": "python",
   "name": "python3"
  },
  "language_info": {
   "codemirror_mode": {
    "name": "ipython",
    "version": 3
   },
   "file_extension": ".py",
   "mimetype": "text/x-python",
   "name": "python",
   "nbconvert_exporter": "python",
   "pygments_lexer": "ipython3",
   "version": "3.11.2"
  },
  "orig_nbformat": 4
 },
 "nbformat": 4,
 "nbformat_minor": 2
}
