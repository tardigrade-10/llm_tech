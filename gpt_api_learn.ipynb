{
 "cells": [
  {
   "cell_type": "code",
   "execution_count": 1,
   "metadata": {},
   "outputs": [
    {
     "name": "stdout",
     "output_type": "stream",
     "text": [
      "{\n",
      "  \"choices\": [\n",
      "    {\n",
      "      \"finish_reason\": \"stop\",\n",
      "      \"index\": 0,\n",
      "      \"message\": {\n",
      "        \"content\": \"Hello! How can I assist you today?\",\n",
      "        \"role\": \"assistant\"\n",
      "      }\n",
      "    }\n",
      "  ],\n",
      "  \"created\": 1685956083,\n",
      "  \"id\": \"chatcmpl-7O0Tzjy46PENZxZHEssoUytJhK86m\",\n",
      "  \"model\": \"gpt-3.5-turbo-0301\",\n",
      "  \"object\": \"chat.completion\",\n",
      "  \"usage\": {\n",
      "    \"completion_tokens\": 9,\n",
      "    \"prompt_tokens\": 9,\n",
      "    \"total_tokens\": 18\n",
      "  }\n",
      "}\n",
      "{\n",
      "  \"choices\": [\n",
      "    {\n",
      "      \"finish_reason\": \"stop\",\n",
      "      \"index\": 0,\n",
      "      \"message\": {\n",
      "        \"content\": \"That's great! Would you like to tell me more about your cat? What is their name, breed, age, personality, etc.?\",\n",
      "        \"role\": \"assistant\"\n",
      "      }\n",
      "    }\n",
      "  ],\n",
      "  \"created\": 1685956085,\n",
      "  \"id\": \"chatcmpl-7O0U1gl2qg2YJ1ud6fGJ7ObAzgvKQ\",\n",
      "  \"model\": \"gpt-3.5-turbo-0301\",\n",
      "  \"object\": \"chat.completion\",\n",
      "  \"usage\": {\n",
      "    \"completion_tokens\": 28,\n",
      "    \"prompt_tokens\": 12,\n",
      "    \"total_tokens\": 40\n",
      "  }\n",
      "}\n",
      "{\n",
      "  \"choices\": [\n",
      "    {\n",
      "      \"finish_reason\": \"stop\",\n",
      "      \"index\": 0,\n",
      "      \"message\": {\n",
      "        \"content\": \"As an AI language model, I cannot see any image or description of her for me to suggest a name. However, here are some of the popular female names:\\n\\n1. Amelia \\n2. Charlotte\\n3. Ava\\n4. Olivia \\n5. Emma \\n6. Isabella \\n7. Sophia \\n8. Mia \\n9. Harper \\n10. Abigail. \\n\\nYou can choose any of these names or create a unique one that suits her personality and appearance.\",\n",
      "        \"role\": \"assistant\"\n",
      "      }\n",
      "    }\n",
      "  ],\n",
      "  \"created\": 1685956088,\n",
      "  \"id\": \"chatcmpl-7O0U45IAHG8up2OzUBt0PDVGcAhav\",\n",
      "  \"model\": \"gpt-3.5-turbo-0301\",\n",
      "  \"object\": \"chat.completion\",\n",
      "  \"usage\": {\n",
      "    \"completion_tokens\": 95,\n",
      "    \"prompt_tokens\": 15,\n",
      "    \"total_tokens\": 110\n",
      "  }\n",
      "}\n"
     ]
    }
   ],
   "source": [
    "import os\n",
    "import openai\n",
    "from env_config import Config\n",
    "\n",
    "openai.api_key = Config.OPENAI_API_KEY\n",
    "\n",
    "message = [\"hi\", \"i have a cat\", \"can you suggest a name for her\"]\n",
    "for i in range(3):\n",
    "    completion = openai.ChatCompletion.create(\n",
    "    model=\"gpt-3.5-turbo\",\n",
    "    messages=[\n",
    "        {\"role\": \"user\", \"content\": message[i]}\n",
    "    ],\n",
    "    n = 1\n",
    "    )\n",
    "    print(completion)\n",
    "\n"
   ]
  },
  {
   "cell_type": "code",
   "execution_count": null,
   "metadata": {},
   "outputs": [],
   "source": []
  }
 ],
 "metadata": {
  "kernelspec": {
   "display_name": "llm",
   "language": "python",
   "name": "python3"
  },
  "language_info": {
   "codemirror_mode": {
    "name": "ipython",
    "version": 3
   },
   "file_extension": ".py",
   "mimetype": "text/x-python",
   "name": "python",
   "nbconvert_exporter": "python",
   "pygments_lexer": "ipython3",
   "version": "3.11.2"
  },
  "orig_nbformat": 4
 },
 "nbformat": 4,
 "nbformat_minor": 2
}
