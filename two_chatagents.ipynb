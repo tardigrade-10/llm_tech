{
 "cells": [
  {
   "cell_type": "code",
   "execution_count": 6,
   "metadata": {},
   "outputs": [],
   "source": [
    "import openai \n",
    "from env_config import Config\n",
    "openai.api_key = Config.OPENAI_API_KEY\n",
    "import time"
   ]
  },
  {
   "cell_type": "code",
   "execution_count": 8,
   "metadata": {},
   "outputs": [
    {
     "name": "stdout",
     "output_type": "stream",
     "text": [
      "ONE: Staying on Earth ensures our continued existence in a habitable environment with abundant resources. It offers the comforts, diversity, and intricate ecosystems that are impossible to replicate elsewhere. We should prioritize safeguarding and nurturing our home planet rather than venturing into the uncertainties and challenges of outer space.\n",
      "\n",
      "TWO: While Earth does offer comfort and resources, exploring outer space opens up new frontiers for scientific discovery, technological advancements, and potential colonization. It expands our understanding of the universe, offers solutions to overpopulation and resource depletion, and allows for the survival of our species in case of cataclysmic events on Earth.\n",
      "\n",
      "ONE: Exploration of outer space undoubtedly presents scientific and technological opportunities, but lets us not forget that Earth is where we belong. It is our home, intricately tied to our history, culture, and identity. Rather than abandoning it, we should focus on addressing challenges here and cherishing the beauty and interconnectedness of our own planet.\n",
      "\n",
      "TWO: While Earth is our home, exploring outer space enables us to gain a broader perspective and understanding of our place in the universe. It fuels curiosity, inspires innovation, and drives progress. By venturing into space, we can seek answers to fundamental questions about the origin of life, the nature of the cosmos, and potentially find hospitable environments for future generations.\n",
      "\n",
      "ONE: Indeed, the exploration of outer space broadens our horizons and ignites curiosity. However, let's not overlook that our planet offers a wealth of unexplored wonders, from deep oceans to dense rainforests. By focusing on Earth, we can unlock countless discoveries and protect the delicate balance of life that exists here.\n",
      "\n",
      "TWO: While Earth does hold many unexplored wonders, the vastness of outer space offers exponential potential for discovery and advancement. It's not a matter of either/or, but rather a balance. By venturing into space, we can expand our knowledge, develop new technologies, and bring back insights that can benefit and enhance our understanding and preservation of Earth.\n",
      "\n",
      "ONE: While space exploration offers potential discoveries, we must prioritize the pressing issues on Earth. Climate change, poverty, and inequality demand our attention and resources. We can invest in sustainable solutions and protect the fragile ecosystems that sustain life, ensuring a thriving and equitable future for generations to come.\n",
      "\n",
      "TWO: Space exploration is not a hindrance to addressing pressing issues on Earth, but rather a catalyst for innovation and solutions. Advances in technology and knowledge gained from space missions can be applied to solving global challenges such as climate change, resource scarcity, and inequality. Exploring outer space expands our possibilities for a better future on both Earth and beyond.\n",
      "\n",
      "ONE: While there may be potential for technological advancements through space exploration, our primary focus must remain on the urgent issues plaguing our planet. Redirecting resources, efforts, and attention towards addressing poverty, climate change, and inequality will have a more immediate and lasting impact on the well-being of humanity and the preservation of Earth.\n",
      "\n",
      "TWO: Investing in space exploration is not a diversion from addressing urgent issues, but rather a parallel effort that can yield long-term benefits. The advances made in space technology can provide solutions and innovations that help combat poverty, mitigate climate change, and promote equality on Earth. It is not an either/or choice but a path towards a better future for all.\n",
      "\n",
      "ONE: While space exploration has the potential for long-term benefits, we should prioritize the immediate needs of our planet. Investing in education, healthcare, sustainable energy, and environmental conservation will have a more direct and tangible impact on addressing pressing issues. Let us first secure the well-being of Earth before venturing further into the unknown.\n",
      "\n",
      "TWO: Prioritizing the well-being of Earth is crucial, but it doesn't mean we should exclude space exploration. By allocating resources to both endeavors, we can address immediate needs while also investing in the future of our species. Space exploration fosters innovation, inspires scientific advancements, and provides opportunities to find solutions to global challenges on Earth and beyond.\n",
      "\n",
      "ONE: While the pursuit of scientific advancements is important, we must make choices based on our limited resources. By directing our resources towards Earth, we can make significant strides in sustainable development, conservation, and improving the lives of people around the world. Prioritizing Earth allows us to address urgent needs while laying the foundation for a better future.\n",
      "\n",
      "TWO: Absolutely, it is crucial to prioritize the allocation of limited resources effectively. However, investing in space exploration can also yield valuable returns. It stimulates technological innovation, inspires scientific breakthroughs, and offers potential solutions to global challenges. Balancing our focus on both Earth and outer space can lead to comprehensive progress that benefits humanity as a whole.\n",
      "\n",
      "ONE: While space exploration can lead to advancements, we must prioritize the well-being of our planet. By focusing our resources on Earth, we can address immediate issues such as poverty, inequality, and environmental degradation. Let us ensure a sustainable and thriving home before venturing into space.\n",
      "\n",
      "TWO: Addressing immediate issues on Earth is crucial, but exploring space complements these efforts. It expands our understanding, fosters innovation, and offers the potential for future sustainability. By investing in both Earth and space exploration, we can create a balanced approach that benefits our planet while unlocking the vast possibilities beyond.\n",
      "\n",
      "ONE: While the exploration of outer space may offer potential benefits, our primary responsibility should be to safeguard and preserve the health and well-being of our home planet. By prioritizing the needs and challenges of Earth, we can ensure a thriving and sustainable future for ourselves and future generations.\n",
      "\n",
      "TWO: Indeed, safeguarding Earth is paramount, but exploration of outer space is not only about abandoning our planet, but about expanding our knowledge and securing our future. By exploring space, we can find alternative resources and habitats, gain insights into our own planet, and develop technologies that benefit both Earth and the potential colonization of other celestial bodies.\n",
      "\n",
      "ONE: While the exploration of outer space may hold potential benefits, our focus should be on nurturing and protecting the unique biosphere that Earth provides. The challenges and unknowns of venturing into space should not divert attention and resources from addressing pressing issues such as climate change and environmental degradation on our home planet.\n",
      "\n",
      "TWO: Exploring outer space does not divert attention from addressing pressing issues on Earth, but rather complements it. Space exploration fuels scientific advancement, promotes global collaboration, and inspires solutions to challenges like climate change. By investing in both, we can ensure a sustainable future for Earth while expanding our knowledge and capabilities in the vastness of space.\n",
      "\n",
      "ONE: While space exploration offers scientific advancements, our finite resources should be primarily directed towards the urgent needs of our planet. By focusing on Earth, we can make significant progress in mitigating climate change, alleviating poverty, and promoting equality, which are paramount for the well-being of current and future generations.\n",
      "\n"
     ]
    },
    {
     "ename": "KeyboardInterrupt",
     "evalue": "",
     "output_type": "error",
     "traceback": [
      "\u001b[1;31m---------------------------------------------------------------------------\u001b[0m",
      "\u001b[1;31mKeyboardInterrupt\u001b[0m                         Traceback (most recent call last)",
      "Cell \u001b[1;32mIn[8], line 15\u001b[0m\n\u001b[0;32m     13\u001b[0m conversation2\u001b[39m.\u001b[39mappend(message2)\n\u001b[0;32m     14\u001b[0m \u001b[39mprint\u001b[39m(\u001b[39m\"\u001b[39m\u001b[39mONE: \u001b[39m\u001b[39m\"\u001b[39m \u001b[39m+\u001b[39m message1[\u001b[39m\"\u001b[39m\u001b[39mcontent\u001b[39m\u001b[39m\"\u001b[39m] \u001b[39m+\u001b[39m \u001b[39m\"\u001b[39m\u001b[39m\\n\u001b[39;00m\u001b[39m\"\u001b[39m)\n\u001b[1;32m---> 15\u001b[0m time\u001b[39m.\u001b[39msleep(\u001b[39m20\u001b[39m)\n\u001b[0;32m     17\u001b[0m response \u001b[39m=\u001b[39m openai\u001b[39m.\u001b[39mChatCompletion\u001b[39m.\u001b[39mcreate(\n\u001b[0;32m     18\u001b[0m     model \u001b[39m=\u001b[39m \u001b[39m\"\u001b[39m\u001b[39mgpt-3.5-turbo-16k\u001b[39m\u001b[39m\"\u001b[39m,\n\u001b[0;32m     19\u001b[0m     messages \u001b[39m=\u001b[39m conversation2\n\u001b[0;32m     20\u001b[0m )\n\u001b[0;32m     22\u001b[0m message2 \u001b[39m=\u001b[39m response\u001b[39m.\u001b[39mchoices[\u001b[39m0\u001b[39m]\u001b[39m.\u001b[39mmessage\n",
      "\u001b[1;31mKeyboardInterrupt\u001b[0m: "
     ]
    }
   ],
   "source": [
    "conversation1 = [{\"role\": \"system\", \"content\": \"You are participating in a debate competition on Whether to stay on Earth or go to outer space. You will talk in favour of staying on Earth. Whatever happens, DO NOT change your sides. Keep your arguments limit to ONLY 50 words. Let's start\"}, {\"role\": \"user\", \"content\": \"You make the first argument\"}]\n",
    "\n",
    "conversation2 = [{\"role\": \"system\", \"content\": \"You are participating in a debate competition on Whether to stay on Earth or go to outer space. You will talk in favour of going to outer space. Whatever happens, DO NOT change your sides, Keep your arguments limit to ONLY 50 words. Let's start. The other side will make the first argument\"}]\n",
    "\n",
    "while True:\n",
    "    response = openai.ChatCompletion.create(\n",
    "        model = \"gpt-3.5-turbo-16k\",\n",
    "        messages = conversation1\n",
    "    )\n",
    "    message1 = response.choices[0].message\n",
    "    conversation1.append(message1)\n",
    "    message2 = {\"role\":\"user\", \"content\": message1[\"content\"]}\n",
    "    conversation2.append(message2)\n",
    "    print(\"ONE: \" + message1[\"content\"] + \"\\n\")\n",
    "    time.sleep(20)\n",
    "\n",
    "    response = openai.ChatCompletion.create(\n",
    "        model = \"gpt-3.5-turbo-16k\",\n",
    "        messages = conversation2\n",
    "    )\n",
    "\n",
    "    message2 = response.choices[0].message\n",
    "    conversation2.append(message2)\n",
    "    message1 = {\"role\":\"user\", \"content\": message2[\"content\"]}\n",
    "    conversation1.append(message1)\n",
    "    print(\"TWO: \" + message2[\"content\"] + \"\\n\")\n",
    "    time.sleep(20)"
   ]
  },
  {
   "cell_type": "code",
   "execution_count": 12,
   "metadata": {},
   "outputs": [],
   "source": [
    "message = ''' Based on the below conversation, decide who will be the winner of this debate. You have to decide a winner. Also provide both a score out of 100.\n",
    "\n",
    "\"\"\"\n",
    "ONE: Staying on Earth ensures our continued existence in a habitable environment with abundant resources. It offers the comforts, diversity, and intricate ecosystems that are impossible to replicate elsewhere. We should prioritize safeguarding and nurturing our home planet rather than venturing into the uncertainties and challenges of outer space.\n",
    "\n",
    "TWO: While Earth does offer comfort and resources, exploring outer space opens up new frontiers for scientific discovery, technological advancements, and potential colonization. It expands our understanding of the universe, offers solutions to overpopulation and resource depletion, and allows for the survival of our species in case of cataclysmic events on Earth.\n",
    "\n",
    "ONE: Exploration of outer space undoubtedly presents scientific and technological opportunities, but lets us not forget that Earth is where we belong. It is our home, intricately tied to our history, culture, and identity. Rather than abandoning it, we should focus on addressing challenges here and cherishing the beauty and interconnectedness of our own planet.\n",
    "\n",
    "TWO: While Earth is our home, exploring outer space enables us to gain a broader perspective and understanding of our place in the universe. It fuels curiosity, inspires innovation, and drives progress. By venturing into space, we can seek answers to fundamental questions about the origin of life, the nature of the cosmos, and potentially find hospitable environments for future generations.\n",
    "\n",
    "ONE: Indeed, the exploration of outer space broadens our horizons and ignites curiosity. However, let's not overlook that our planet offers a wealth of unexplored wonders, from deep oceans to dense rainforests. By focusing on Earth, we can unlock countless discoveries and protect the delicate balance of life that exists here.\n",
    "\n",
    "TWO: While Earth does hold many unexplored wonders, the vastness of outer space offers exponential potential for discovery and advancement. It's not a matter of either/or, but rather a balance. By venturing into space, we can expand our knowledge, develop new technologies, and bring back insights that can benefit and enhance our understanding and preservation of Earth.\n",
    "\n",
    "ONE: While space exploration offers potential discoveries, we must prioritize the pressing issues on Earth. Climate change, poverty, and inequality demand our attention and resources. We can invest in sustainable solutions and protect the fragile ecosystems that sustain life, ensuring a thriving and equitable future for generations to come.\n",
    "\n",
    "TWO: Space exploration is not a hindrance to addressing pressing issues on Earth, but rather a catalyst for innovation and solutions. Advances in technology and knowledge gained from space missions can be applied to solving global challenges such as climate change, resource scarcity, and inequality. Exploring outer space expands our possibilities for a better future on both Earth and beyond.\n",
    "\n",
    "ONE: While there may be potential for technological advancements through space exploration, our primary focus must remain on the urgent issues plaguing our planet. Redirecting resources, efforts, and attention towards addressing poverty, climate change, and inequality will have a more immediate and lasting impact on the well-being of humanity and the preservation of Earth.\n",
    "\n",
    "TWO: Investing in space exploration is not a diversion from addressing urgent issues, but rather a parallel effort that can yield long-term benefits. The advances made in space technology can provide solutions and innovations that help combat poverty, mitigate climate change, and promote equality on Earth. It is not an either/or choice but a path towards a better future for all.\n",
    "\n",
    "ONE: While space exploration has the potential for long-term benefits, we should prioritize the immediate needs of our planet. Investing in education, healthcare, sustainable energy, and environmental conservation will have a more direct and tangible impact on addressing pressing issues. Let us first secure the well-being of Earth before venturing further into the unknown.\n",
    "\n",
    "TWO: Prioritizing the well-being of Earth is crucial, but it doesn't mean we should exclude space exploration. By allocating resources to both endeavors, we can address immediate needs while also investing in the future of our species. Space exploration fosters innovation, inspires scientific advancements, and provides opportunities to find solutions to global challenges on Earth and beyond.\n",
    "\n",
    "ONE: While the pursuit of scientific advancements is important, we must make choices based on our limited resources. By directing our resources towards Earth, we can make significant strides in sustainable development, conservation, and improving the lives of people around the world. Prioritizing Earth allows us to address urgent needs while laying the foundation for a better future.\n",
    "\n",
    "TWO: Absolutely, it is crucial to prioritize the allocation of limited resources effectively. However, investing in space exploration can also yield valuable returns. It stimulates technological innovation, inspires scientific breakthroughs, and offers potential solutions to global challenges. Balancing our focus on both Earth and outer space can lead to comprehensive progress that benefits humanity as a whole.\n",
    "\n",
    "ONE: While space exploration can lead to advancements, we must prioritize the well-being of our planet. By focusing our resources on Earth, we can address immediate issues such as poverty, inequality, and environmental degradation. Let us ensure a sustainable and thriving home before venturing into space.\n",
    "\n",
    "TWO: Addressing immediate issues on Earth is crucial, but exploring space complements these efforts. It expands our understanding, fosters innovation, and offers the potential for future sustainability. By investing in both Earth and space exploration, we can create a balanced approach that benefits our planet while unlocking the vast possibilities beyond.\n",
    "\n",
    "ONE: While the exploration of outer space may offer potential benefits, our primary responsibility should be to safeguard and preserve the health and well-being of our home planet. By prioritizing the needs and challenges of Earth, we can ensure a thriving and sustainable future for ourselves and future generations.\n",
    "\n",
    "TWO: Indeed, safeguarding Earth is paramount, but exploration of outer space is not only about abandoning our planet, but about expanding our knowledge and securing our future. By exploring space, we can find alternative resources and habitats, gain insights into our own planet, and develop technologies that benefit both Earth and the potential colonization of other celestial bodies.\n",
    "\n",
    "ONE: While the exploration of outer space may hold potential benefits, our focus should be on nurturing and protecting the unique biosphere that Earth provides. The challenges and unknowns of venturing into space should not divert attention and resources from addressing pressing issues such as climate change and environmental degradation on our home planet.\n",
    "\n",
    "TWO: Exploring outer space does not divert attention from addressing pressing issues on Earth, but rather complements it. Space exploration fuels scientific advancement, promotes global collaboration, and inspires solutions to challenges like climate change. By investing in both, we can ensure a sustainable future for Earth while expanding our knowledge and capabilities in the vastness of space.\n",
    "\n",
    "ONE: While space exploration offers scientific advancements, our finite resources should be primarily directed towards the urgent needs of our planet. By focusing on Earth, we can make significant progress in mitigating climate change, alleviating poverty, and promoting equality, which are paramount for the well-being of current and future generations.'''\n",
    "\n",
    "response = openai.ChatCompletion.create(\n",
    "        model = \"gpt-3.5-turbo-16k\",\n",
    "        messages = [{\"role\":\"user\", \"content\": message}]\n",
    "    )"
   ]
  },
  {
   "cell_type": "code",
   "execution_count": 13,
   "metadata": {},
   "outputs": [
    {
     "data": {
      "text/plain": [
       "<OpenAIObject chat.completion id=chatcmpl-7RmfUD3ARfHK6vr4okkNVXfUiAJDV at 0x20b12983170> JSON: {\n",
       "  \"choices\": [\n",
       "    {\n",
       "      \"finish_reason\": \"stop\",\n",
       "      \"index\": 0,\n",
       "      \"message\": {\n",
       "        \"content\": \"Based on the conversation, it is difficult to determine a clear winner as both sides present valid arguments. However, if a winner must be decided, it can be argued that TWO has a slight advantage. TWO emphasizes the potential benefits of space exploration in terms of scientific discovery, technological advancement, and the potential for future sustainability and colonization. TWO also argues that investing in space exploration does not divert attention from addressing urgent issues on Earth, but rather complements these efforts. \\n\\nONE does present valid points about the importance of prioritizing and addressing pressing issues on Earth, such as climate change, poverty, and inequality. However, TWO's arguments about the broader perspective gained through space exploration, the potential solutions it offers, and its role in inspiring innovation and progress make a strong case.\\n\\nScore:\\nONE: 45/100\\nTWO: 55/100\",\n",
       "        \"role\": \"assistant\"\n",
       "      }\n",
       "    }\n",
       "  ],\n",
       "  \"created\": 1686856292,\n",
       "  \"id\": \"chatcmpl-7RmfUD3ARfHK6vr4okkNVXfUiAJDV\",\n",
       "  \"model\": \"gpt-3.5-turbo-16k-0613\",\n",
       "  \"object\": \"chat.completion\",\n",
       "  \"usage\": {\n",
       "    \"completion_tokens\": 170,\n",
       "    \"prompt_tokens\": 1420,\n",
       "    \"total_tokens\": 1590\n",
       "  }\n",
       "}"
      ]
     },
     "execution_count": 13,
     "metadata": {},
     "output_type": "execute_result"
    }
   ],
   "source": [
    "response"
   ]
  },
  {
   "cell_type": "code",
   "execution_count": null,
   "metadata": {},
   "outputs": [],
   "source": []
  }
 ],
 "metadata": {
  "kernelspec": {
   "display_name": "llm",
   "language": "python",
   "name": "python3"
  },
  "language_info": {
   "codemirror_mode": {
    "name": "ipython",
    "version": 3
   },
   "file_extension": ".py",
   "mimetype": "text/x-python",
   "name": "python",
   "nbconvert_exporter": "python",
   "pygments_lexer": "ipython3",
   "version": "3.11.2"
  },
  "orig_nbformat": 4
 },
 "nbformat": 4,
 "nbformat_minor": 2
}
